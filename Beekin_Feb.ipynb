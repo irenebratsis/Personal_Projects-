{
 "cells": [
  {
   "cell_type": "code",
   "execution_count": 1,
   "metadata": {},
   "outputs": [],
   "source": [
    "import numpy as np\n",
    "import pandas as pd\n",
    "import matplotlib.pyplot as plt\n"
   ]
  },
  {
   "cell_type": "code",
   "execution_count": 2,
   "metadata": {},
   "outputs": [],
   "source": [
    "febdf = pd.read_csv('/Users/ir3n3br4t515/Desktop/February.csv')\n"
   ]
  },
  {
   "cell_type": "code",
   "execution_count": 3,
   "metadata": {},
   "outputs": [],
   "source": [
    "febdf_1 = febdf.fillna(febdf.mean())           \n"
   ]
  },
  {
   "cell_type": "code",
   "execution_count": 4,
   "metadata": {},
   "outputs": [
    {
     "data": {
      "text/html": [
       "<div>\n",
       "<style scoped>\n",
       "    .dataframe tbody tr th:only-of-type {\n",
       "        vertical-align: middle;\n",
       "    }\n",
       "\n",
       "    .dataframe tbody tr th {\n",
       "        vertical-align: top;\n",
       "    }\n",
       "\n",
       "    .dataframe thead th {\n",
       "        text-align: right;\n",
       "    }\n",
       "</style>\n",
       "<table border=\"1\" class=\"dataframe\">\n",
       "  <thead>\n",
       "    <tr style=\"text-align: right;\">\n",
       "      <th></th>\n",
       "      <th>MTM</th>\n",
       "      <th>Property_Code</th>\n",
       "      <th>Tenant_Code</th>\n",
       "      <th>Unit_Code</th>\n",
       "      <th>Lease_To_Date</th>\n",
       "      <th>Lease_From_Date</th>\n",
       "      <th>Move_In_Date</th>\n",
       "      <th>Rent</th>\n",
       "      <th>Market_Rent</th>\n",
       "      <th>Property_Name</th>\n",
       "      <th>BedRooms</th>\n",
       "      <th>Unit_Address</th>\n",
       "      <th>Current_Term</th>\n",
       "      <th>Status</th>\n",
       "      <th>Renewal_Status</th>\n",
       "      <th>MarketRentDifference</th>\n",
       "    </tr>\n",
       "  </thead>\n",
       "  <tbody>\n",
       "    <tr>\n",
       "      <th>0</th>\n",
       "      <td>0.0</td>\n",
       "      <td>555.0</td>\n",
       "      <td>t0063568</td>\n",
       "      <td>9-3C</td>\n",
       "      <td>2022-02-12</td>\n",
       "      <td>2021-02-13</td>\n",
       "      <td>2019-02-13</td>\n",
       "      <td>1238.0</td>\n",
       "      <td>1350</td>\n",
       "      <td>The Crossings at White Marsh I</td>\n",
       "      <td>1.0</td>\n",
       "      <td>555-A1</td>\n",
       "      <td>12.0</td>\n",
       "      <td>Current</td>\n",
       "      <td>Renewed</td>\n",
       "      <td>-1344.0</td>\n",
       "    </tr>\n",
       "    <tr>\n",
       "      <th>1</th>\n",
       "      <td>0.0</td>\n",
       "      <td>585.0</td>\n",
       "      <td>tgr00723</td>\n",
       "      <td>723</td>\n",
       "      <td>2022-02-07</td>\n",
       "      <td>2021-02-08</td>\n",
       "      <td>2019-02-08</td>\n",
       "      <td>1517.0</td>\n",
       "      <td>1595</td>\n",
       "      <td>The Grand Reserve at Tampa Palms</td>\n",
       "      <td>2.0</td>\n",
       "      <td>585-2C.R</td>\n",
       "      <td>12.0</td>\n",
       "      <td>Current</td>\n",
       "      <td>Renewed</td>\n",
       "      <td>-936.0</td>\n",
       "    </tr>\n",
       "    <tr>\n",
       "      <th>2</th>\n",
       "      <td>0.0</td>\n",
       "      <td>585.0</td>\n",
       "      <td>tgr01327</td>\n",
       "      <td>1327</td>\n",
       "      <td>2022-02-05</td>\n",
       "      <td>2021-02-06</td>\n",
       "      <td>2019-02-06</td>\n",
       "      <td>1542.0</td>\n",
       "      <td>1630</td>\n",
       "      <td>The Grand Reserve at Tampa Palms</td>\n",
       "      <td>2.0</td>\n",
       "      <td>585-2C.R</td>\n",
       "      <td>12.0</td>\n",
       "      <td>Current</td>\n",
       "      <td>Renewed</td>\n",
       "      <td>-1056.0</td>\n",
       "    </tr>\n",
       "    <tr>\n",
       "      <th>3</th>\n",
       "      <td>0.0</td>\n",
       "      <td>585.0</td>\n",
       "      <td>t0075089</td>\n",
       "      <td>416</td>\n",
       "      <td>2021-02-21</td>\n",
       "      <td>2020-02-22</td>\n",
       "      <td>2018-02-22</td>\n",
       "      <td>1438.0</td>\n",
       "      <td>1475</td>\n",
       "      <td>The Grand Reserve at Tampa Palms</td>\n",
       "      <td>2.0</td>\n",
       "      <td>585-2D.R</td>\n",
       "      <td>12.0</td>\n",
       "      <td>Past</td>\n",
       "      <td>Not Renewed</td>\n",
       "      <td>-444.0</td>\n",
       "    </tr>\n",
       "    <tr>\n",
       "      <th>4</th>\n",
       "      <td>0.0</td>\n",
       "      <td>515.0</td>\n",
       "      <td>t0071340</td>\n",
       "      <td>0001D302</td>\n",
       "      <td>2021-02-18</td>\n",
       "      <td>2020-03-19</td>\n",
       "      <td>2020-03-19</td>\n",
       "      <td>1115.0</td>\n",
       "      <td>1290</td>\n",
       "      <td>Doncaster Village Apartments</td>\n",
       "      <td>2.0</td>\n",
       "      <td>515-2A</td>\n",
       "      <td>11.0</td>\n",
       "      <td>Past</td>\n",
       "      <td>Not Renewed</td>\n",
       "      <td>-1925.0</td>\n",
       "    </tr>\n",
       "    <tr>\n",
       "      <th>5</th>\n",
       "      <td>0.0</td>\n",
       "      <td>445.0</td>\n",
       "      <td>t0127304</td>\n",
       "      <td>331</td>\n",
       "      <td>2022-02-14</td>\n",
       "      <td>2021-02-15</td>\n",
       "      <td>2017-10-15</td>\n",
       "      <td>1394.0</td>\n",
       "      <td>1405</td>\n",
       "      <td>Edison Lofts</td>\n",
       "      <td>1.0</td>\n",
       "      <td>445-A5</td>\n",
       "      <td>12.0</td>\n",
       "      <td>Current</td>\n",
       "      <td>Renewed</td>\n",
       "      <td>-132.0</td>\n",
       "    </tr>\n",
       "    <tr>\n",
       "      <th>6</th>\n",
       "      <td>0.0</td>\n",
       "      <td>565.0</td>\n",
       "      <td>t0063949</td>\n",
       "      <td>4806-101</td>\n",
       "      <td>2022-02-19</td>\n",
       "      <td>2021-02-20</td>\n",
       "      <td>2019-02-16</td>\n",
       "      <td>1292.0</td>\n",
       "      <td>1515</td>\n",
       "      <td>The Crossings at White Marsh II</td>\n",
       "      <td>1.0</td>\n",
       "      <td>565-A1.R</td>\n",
       "      <td>12.0</td>\n",
       "      <td>Current</td>\n",
       "      <td>Renewed</td>\n",
       "      <td>-2676.0</td>\n",
       "    </tr>\n",
       "    <tr>\n",
       "      <th>7</th>\n",
       "      <td>1.0</td>\n",
       "      <td>580.0</td>\n",
       "      <td>t0063959</td>\n",
       "      <td>4652-403</td>\n",
       "      <td>2021-02-21</td>\n",
       "      <td>2020-02-22</td>\n",
       "      <td>2019-02-22</td>\n",
       "      <td>1726.0</td>\n",
       "      <td>1935</td>\n",
       "      <td>Riverstone at Owings Mills Apartments</td>\n",
       "      <td>2.0</td>\n",
       "      <td>580-B1</td>\n",
       "      <td>12.0</td>\n",
       "      <td>Notice</td>\n",
       "      <td>Not Renewed</td>\n",
       "      <td>-2508.0</td>\n",
       "    </tr>\n",
       "    <tr>\n",
       "      <th>8</th>\n",
       "      <td>0.0</td>\n",
       "      <td>555.0</td>\n",
       "      <td>t0064010</td>\n",
       "      <td>23-2D</td>\n",
       "      <td>2022-02-06</td>\n",
       "      <td>2021-02-07</td>\n",
       "      <td>2019-03-07</td>\n",
       "      <td>1297.0</td>\n",
       "      <td>1480</td>\n",
       "      <td>The Crossings at White Marsh I</td>\n",
       "      <td>1.0</td>\n",
       "      <td>555-A1.R</td>\n",
       "      <td>12.0</td>\n",
       "      <td>Current</td>\n",
       "      <td>Renewed</td>\n",
       "      <td>-2196.0</td>\n",
       "    </tr>\n",
       "    <tr>\n",
       "      <th>9</th>\n",
       "      <td>0.0</td>\n",
       "      <td>515.0</td>\n",
       "      <td>t0061644</td>\n",
       "      <td>0004L302</td>\n",
       "      <td>2022-02-13</td>\n",
       "      <td>2021-02-14</td>\n",
       "      <td>2018-04-14</td>\n",
       "      <td>1199.0</td>\n",
       "      <td>1440</td>\n",
       "      <td>Doncaster Village Apartments</td>\n",
       "      <td>2.0</td>\n",
       "      <td>515-2A</td>\n",
       "      <td>12.0</td>\n",
       "      <td>Current</td>\n",
       "      <td>Renewed</td>\n",
       "      <td>-2892.0</td>\n",
       "    </tr>\n",
       "  </tbody>\n",
       "</table>\n",
       "</div>"
      ],
      "text/plain": [
       "   MTM  Property_Code Tenant_Code Unit_Code Lease_To_Date Lease_From_Date  \\\n",
       "0  0.0          555.0    t0063568      9-3C    2022-02-12      2021-02-13   \n",
       "1  0.0          585.0    tgr00723       723    2022-02-07      2021-02-08   \n",
       "2  0.0          585.0    tgr01327      1327    2022-02-05      2021-02-06   \n",
       "3  0.0          585.0    t0075089       416    2021-02-21      2020-02-22   \n",
       "4  0.0          515.0    t0071340  0001D302    2021-02-18      2020-03-19   \n",
       "5  0.0          445.0    t0127304       331    2022-02-14      2021-02-15   \n",
       "6  0.0          565.0    t0063949  4806-101    2022-02-19      2021-02-20   \n",
       "7  1.0          580.0    t0063959  4652-403    2021-02-21      2020-02-22   \n",
       "8  0.0          555.0    t0064010     23-2D    2022-02-06      2021-02-07   \n",
       "9  0.0          515.0    t0061644  0004L302    2022-02-13      2021-02-14   \n",
       "\n",
       "  Move_In_Date    Rent Market_Rent                          Property_Name  \\\n",
       "0   2019-02-13  1238.0        1350         The Crossings at White Marsh I   \n",
       "1   2019-02-08  1517.0        1595       The Grand Reserve at Tampa Palms   \n",
       "2   2019-02-06  1542.0        1630       The Grand Reserve at Tampa Palms   \n",
       "3   2018-02-22  1438.0        1475       The Grand Reserve at Tampa Palms   \n",
       "4   2020-03-19  1115.0        1290           Doncaster Village Apartments   \n",
       "5   2017-10-15  1394.0        1405                           Edison Lofts   \n",
       "6   2019-02-16  1292.0        1515        The Crossings at White Marsh II   \n",
       "7   2019-02-22  1726.0        1935  Riverstone at Owings Mills Apartments   \n",
       "8   2019-03-07  1297.0        1480         The Crossings at White Marsh I   \n",
       "9   2018-04-14  1199.0        1440           Doncaster Village Apartments   \n",
       "\n",
       "   BedRooms Unit_Address  Current_Term   Status Renewal_Status  \\\n",
       "0       1.0       555-A1          12.0  Current        Renewed   \n",
       "1       2.0     585-2C.R          12.0  Current        Renewed   \n",
       "2       2.0     585-2C.R          12.0  Current        Renewed   \n",
       "3       2.0     585-2D.R          12.0     Past    Not Renewed   \n",
       "4       2.0       515-2A          11.0     Past    Not Renewed   \n",
       "5       1.0       445-A5          12.0  Current        Renewed   \n",
       "6       1.0     565-A1.R          12.0  Current        Renewed   \n",
       "7       2.0       580-B1          12.0   Notice    Not Renewed   \n",
       "8       1.0     555-A1.R          12.0  Current        Renewed   \n",
       "9       2.0       515-2A          12.0  Current        Renewed   \n",
       "\n",
       "   MarketRentDifference  \n",
       "0               -1344.0  \n",
       "1                -936.0  \n",
       "2               -1056.0  \n",
       "3                -444.0  \n",
       "4               -1925.0  \n",
       "5                -132.0  \n",
       "6               -2676.0  \n",
       "7               -2508.0  \n",
       "8               -2196.0  \n",
       "9               -2892.0  "
      ]
     },
     "execution_count": 4,
     "metadata": {},
     "output_type": "execute_result"
    }
   ],
   "source": [
    "febdf.head(10)"
   ]
  },
  {
   "cell_type": "code",
   "execution_count": 5,
   "metadata": {},
   "outputs": [
    {
     "name": "stdout",
     "output_type": "stream",
     "text": [
      "<class 'pandas.core.frame.DataFrame'>\n",
      "RangeIndex: 133 entries, 0 to 132\n",
      "Data columns (total 16 columns):\n",
      " #   Column                Non-Null Count  Dtype  \n",
      "---  ------                --------------  -----  \n",
      " 0   MTM                   131 non-null    float64\n",
      " 1   Property_Code         131 non-null    float64\n",
      " 2   Tenant_Code           131 non-null    object \n",
      " 3   Unit_Code             131 non-null    object \n",
      " 4   Lease_To_Date         131 non-null    object \n",
      " 5   Lease_From_Date       131 non-null    object \n",
      " 6   Move_In_Date          131 non-null    object \n",
      " 7   Rent                  132 non-null    float64\n",
      " 8   Market_Rent           133 non-null    object \n",
      " 9   Property_Name         131 non-null    object \n",
      " 10  BedRooms              131 non-null    float64\n",
      " 11  Unit_Address          131 non-null    object \n",
      " 12  Current_Term          131 non-null    float64\n",
      " 13  Status                131 non-null    object \n",
      " 14  Renewal_Status        131 non-null    object \n",
      " 15  MarketRentDifference  131 non-null    float64\n",
      "dtypes: float64(6), object(10)\n",
      "memory usage: 16.8+ KB\n"
     ]
    }
   ],
   "source": [
    "febdf.info()"
   ]
  },
  {
   "cell_type": "code",
   "execution_count": 6,
   "metadata": {},
   "outputs": [
    {
     "data": {
      "text/html": [
       "<div>\n",
       "<style scoped>\n",
       "    .dataframe tbody tr th:only-of-type {\n",
       "        vertical-align: middle;\n",
       "    }\n",
       "\n",
       "    .dataframe tbody tr th {\n",
       "        vertical-align: top;\n",
       "    }\n",
       "\n",
       "    .dataframe thead th {\n",
       "        text-align: right;\n",
       "    }\n",
       "</style>\n",
       "<table border=\"1\" class=\"dataframe\">\n",
       "  <thead>\n",
       "    <tr style=\"text-align: right;\">\n",
       "      <th></th>\n",
       "      <th>MTM</th>\n",
       "      <th>Property_Code</th>\n",
       "      <th>Rent</th>\n",
       "      <th>BedRooms</th>\n",
       "      <th>MarketRentDifference</th>\n",
       "    </tr>\n",
       "  </thead>\n",
       "  <tbody>\n",
       "    <tr>\n",
       "      <th>MTM</th>\n",
       "      <td>1.000000</td>\n",
       "      <td>0.027562</td>\n",
       "      <td>0.000844</td>\n",
       "      <td>0.112096</td>\n",
       "      <td>-0.067214</td>\n",
       "    </tr>\n",
       "    <tr>\n",
       "      <th>Property_Code</th>\n",
       "      <td>0.027562</td>\n",
       "      <td>1.000000</td>\n",
       "      <td>-0.000509</td>\n",
       "      <td>0.276550</td>\n",
       "      <td>-0.510958</td>\n",
       "    </tr>\n",
       "    <tr>\n",
       "      <th>Rent</th>\n",
       "      <td>0.000844</td>\n",
       "      <td>-0.000509</td>\n",
       "      <td>1.000000</td>\n",
       "      <td>0.007589</td>\n",
       "      <td>0.010185</td>\n",
       "    </tr>\n",
       "    <tr>\n",
       "      <th>BedRooms</th>\n",
       "      <td>0.112096</td>\n",
       "      <td>0.276550</td>\n",
       "      <td>0.007589</td>\n",
       "      <td>1.000000</td>\n",
       "      <td>-0.141760</td>\n",
       "    </tr>\n",
       "    <tr>\n",
       "      <th>MarketRentDifference</th>\n",
       "      <td>-0.067214</td>\n",
       "      <td>-0.510958</td>\n",
       "      <td>0.010185</td>\n",
       "      <td>-0.141760</td>\n",
       "      <td>1.000000</td>\n",
       "    </tr>\n",
       "  </tbody>\n",
       "</table>\n",
       "</div>"
      ],
      "text/plain": [
       "                           MTM  Property_Code      Rent  BedRooms  \\\n",
       "MTM                   1.000000       0.027562  0.000844  0.112096   \n",
       "Property_Code         0.027562       1.000000 -0.000509  0.276550   \n",
       "Rent                  0.000844      -0.000509  1.000000  0.007589   \n",
       "BedRooms              0.112096       0.276550  0.007589  1.000000   \n",
       "MarketRentDifference -0.067214      -0.510958  0.010185 -0.141760   \n",
       "\n",
       "                      MarketRentDifference  \n",
       "MTM                              -0.067214  \n",
       "Property_Code                    -0.510958  \n",
       "Rent                              0.010185  \n",
       "BedRooms                         -0.141760  \n",
       "MarketRentDifference              1.000000  "
      ]
     },
     "execution_count": 6,
     "metadata": {},
     "output_type": "execute_result"
    }
   ],
   "source": [
    "febdf_1[['MTM', 'Property_Code', 'Rent', 'BedRooms', 'MarketRentDifference']].corr()\n"
   ]
  },
  {
   "cell_type": "code",
   "execution_count": 7,
   "metadata": {},
   "outputs": [
    {
     "data": {
      "text/html": [
       "<div>\n",
       "<style scoped>\n",
       "    .dataframe tbody tr th:only-of-type {\n",
       "        vertical-align: middle;\n",
       "    }\n",
       "\n",
       "    .dataframe tbody tr th {\n",
       "        vertical-align: top;\n",
       "    }\n",
       "\n",
       "    .dataframe thead th {\n",
       "        text-align: right;\n",
       "    }\n",
       "</style>\n",
       "<table border=\"1\" class=\"dataframe\">\n",
       "  <thead>\n",
       "    <tr style=\"text-align: right;\">\n",
       "      <th></th>\n",
       "      <th>BedRooms</th>\n",
       "    </tr>\n",
       "    <tr>\n",
       "      <th>Rent</th>\n",
       "      <th></th>\n",
       "    </tr>\n",
       "  </thead>\n",
       "  <tbody>\n",
       "    <tr>\n",
       "      <th>894.000000</th>\n",
       "      <td>1.000000</td>\n",
       "    </tr>\n",
       "    <tr>\n",
       "      <th>954.000000</th>\n",
       "      <td>1.000000</td>\n",
       "    </tr>\n",
       "    <tr>\n",
       "      <th>967.000000</th>\n",
       "      <td>1.000000</td>\n",
       "    </tr>\n",
       "    <tr>\n",
       "      <th>970.000000</th>\n",
       "      <td>1.000000</td>\n",
       "    </tr>\n",
       "    <tr>\n",
       "      <th>974.000000</th>\n",
       "      <td>1.000000</td>\n",
       "    </tr>\n",
       "    <tr>\n",
       "      <th>...</th>\n",
       "      <td>...</td>\n",
       "    </tr>\n",
       "    <tr>\n",
       "      <th>2465.000000</th>\n",
       "      <td>2.000000</td>\n",
       "    </tr>\n",
       "    <tr>\n",
       "      <th>2470.000000</th>\n",
       "      <td>2.000000</td>\n",
       "    </tr>\n",
       "    <tr>\n",
       "      <th>2578.000000</th>\n",
       "      <td>2.000000</td>\n",
       "    </tr>\n",
       "    <tr>\n",
       "      <th>2811.218182</th>\n",
       "      <td>1.610687</td>\n",
       "    </tr>\n",
       "    <tr>\n",
       "      <th>185540.400000</th>\n",
       "      <td>1.610687</td>\n",
       "    </tr>\n",
       "  </tbody>\n",
       "</table>\n",
       "<p>126 rows × 1 columns</p>\n",
       "</div>"
      ],
      "text/plain": [
       "               BedRooms\n",
       "Rent                   \n",
       "894.000000     1.000000\n",
       "954.000000     1.000000\n",
       "967.000000     1.000000\n",
       "970.000000     1.000000\n",
       "974.000000     1.000000\n",
       "...                 ...\n",
       "2465.000000    2.000000\n",
       "2470.000000    2.000000\n",
       "2578.000000    2.000000\n",
       "2811.218182    1.610687\n",
       "185540.400000  1.610687\n",
       "\n",
       "[126 rows x 1 columns]"
      ]
     },
     "execution_count": 7,
     "metadata": {},
     "output_type": "execute_result"
    }
   ],
   "source": [
    "febdf_1.groupby('Rent').mean()[['BedRooms']]\n"
   ]
  },
  {
   "cell_type": "code",
   "execution_count": 8,
   "metadata": {},
   "outputs": [
    {
     "data": {
      "text/html": [
       "<div>\n",
       "<style scoped>\n",
       "    .dataframe tbody tr th:only-of-type {\n",
       "        vertical-align: middle;\n",
       "    }\n",
       "\n",
       "    .dataframe tbody tr th {\n",
       "        vertical-align: top;\n",
       "    }\n",
       "\n",
       "    .dataframe thead th {\n",
       "        text-align: right;\n",
       "    }\n",
       "</style>\n",
       "<table border=\"1\" class=\"dataframe\">\n",
       "  <thead>\n",
       "    <tr style=\"text-align: right;\">\n",
       "      <th></th>\n",
       "      <th>Rent</th>\n",
       "    </tr>\n",
       "    <tr>\n",
       "      <th>Property_Code</th>\n",
       "      <th></th>\n",
       "    </tr>\n",
       "  </thead>\n",
       "  <tbody>\n",
       "    <tr>\n",
       "      <th>445.000000</th>\n",
       "      <td>1722.000000</td>\n",
       "    </tr>\n",
       "    <tr>\n",
       "      <th>515.000000</th>\n",
       "      <td>1100.121212</td>\n",
       "    </tr>\n",
       "    <tr>\n",
       "      <th>530.000000</th>\n",
       "      <td>1454.384615</td>\n",
       "    </tr>\n",
       "    <tr>\n",
       "      <th>536.374046</th>\n",
       "      <td>94175.809091</td>\n",
       "    </tr>\n",
       "    <tr>\n",
       "      <th>555.000000</th>\n",
       "      <td>1313.642857</td>\n",
       "    </tr>\n",
       "    <tr>\n",
       "      <th>565.000000</th>\n",
       "      <td>1421.733333</td>\n",
       "    </tr>\n",
       "    <tr>\n",
       "      <th>580.000000</th>\n",
       "      <td>1629.761905</td>\n",
       "    </tr>\n",
       "    <tr>\n",
       "      <th>585.000000</th>\n",
       "      <td>1493.611765</td>\n",
       "    </tr>\n",
       "  </tbody>\n",
       "</table>\n",
       "</div>"
      ],
      "text/plain": [
       "                       Rent\n",
       "Property_Code              \n",
       "445.000000      1722.000000\n",
       "515.000000      1100.121212\n",
       "530.000000      1454.384615\n",
       "536.374046     94175.809091\n",
       "555.000000      1313.642857\n",
       "565.000000      1421.733333\n",
       "580.000000      1629.761905\n",
       "585.000000      1493.611765"
      ]
     },
     "execution_count": 8,
     "metadata": {},
     "output_type": "execute_result"
    }
   ],
   "source": [
    "febdf_1.groupby('Property_Code').mean()[['Rent']]\n"
   ]
  },
  {
   "cell_type": "code",
   "execution_count": 9,
   "metadata": {},
   "outputs": [
    {
     "data": {
      "image/png": "[encoded data removed]",
      "text/plain": [
       "<Figure size 432x288 with 1 Axes>"
      ]
     },
     "metadata": {
      "needs_background": "light"
     },
     "output_type": "display_data"
    }
   ],
   "source": [
    "\n",
    "plt.hist(febdf_1.MarketRentDifference)\n",
    "plt.title(\"The distribution of MarketRentDifference\")\n",
    "plt.xlabel(\"MarketRentChange\")\n",
    "plt.ylabel(\"number of occurrence\")\n",
    "plt.show()"
   ]
  },
  {
   "cell_type": "code",
   "execution_count": 12,
   "metadata": {},
   "outputs": [
    {
     "data": {
      "text/plain": [
       "MTM                     float64\n",
       "Property_Code           float64\n",
       "Tenant_Code              object\n",
       "Unit_Code                object\n",
       "Lease_To_Date            object\n",
       "Lease_From_Date          object\n",
       "Move_In_Date             object\n",
       "Rent                    float64\n",
       "Market_Rent              object\n",
       "Property_Name            object\n",
       "BedRooms                float64\n",
       "Unit_Address             object\n",
       "Current_Term            float64\n",
       "Status                   object\n",
       "Renewal_Status           object\n",
       "MarketRentDifference    float64\n",
       "dtype: object"
      ]
     },
     "execution_count": 12,
     "metadata": {},
     "output_type": "execute_result"
    }
   ],
   "source": [
    "febdf_1.dtypes"
   ]
  },
  {
   "cell_type": "code",
   "execution_count": 15,
   "metadata": {},
   "outputs": [],
   "source": [
    "\n",
    "\n",
    "indexNames = febdf_1[febdf_1['Market_Rent'] == '6.93%'].index\n",
    "febdf_1.drop(indexNames , inplace=True)"
   ]
  },
  {
   "cell_type": "code",
   "execution_count": 16,
   "metadata": {},
   "outputs": [],
   "source": [
    "febdf_1[\"Market_Rent\"] = pd.to_numeric(febdf_1[\"Market_Rent\"])\n"
   ]
  },
  {
   "cell_type": "code",
   "execution_count": 17,
   "metadata": {},
   "outputs": [
    {
     "data": {
      "text/plain": [
       "MTM                     float64\n",
       "Property_Code           float64\n",
       "Tenant_Code              object\n",
       "Unit_Code                object\n",
       "Lease_To_Date            object\n",
       "Lease_From_Date          object\n",
       "Move_In_Date             object\n",
       "Rent                    float64\n",
       "Market_Rent               int64\n",
       "Property_Name            object\n",
       "BedRooms                float64\n",
       "Unit_Address             object\n",
       "Current_Term            float64\n",
       "Status                   object\n",
       "Renewal_Status           object\n",
       "MarketRentDifference    float64\n",
       "dtype: object"
      ]
     },
     "execution_count": 17,
     "metadata": {},
     "output_type": "execute_result"
    }
   ],
   "source": [
    "febdf_1.dtypes"
   ]
  },
  {
   "cell_type": "code",
   "execution_count": 18,
   "metadata": {},
   "outputs": [
    {
     "name": "stdout",
     "output_type": "stream",
     "text": [
      "          MTM  Property_Code Tenant_Code Unit_Code Lease_To_Date  \\\n",
      "0    0.000000     555.000000    t0063568      9-3C    2022-02-12   \n",
      "1    0.000000     585.000000    tgr00723       723    2022-02-07   \n",
      "2    0.000000     585.000000    tgr01327      1327    2022-02-05   \n",
      "3    0.000000     585.000000    t0075089       416    2021-02-21   \n",
      "4    0.000000     515.000000    t0071340  0001D302    2021-02-18   \n",
      "..        ...            ...         ...       ...           ...   \n",
      "127  0.000000     530.000000    t0071757   201-203    2021-02-16   \n",
      "128  0.000000     445.000000    t0074963       527    2021-02-27   \n",
      "129  0.000000     580.000000    t0077837  9014-401    2022-02-01   \n",
      "130  0.000000     565.000000    t0070317  4802-301    2022-02-16   \n",
      "131  0.083969     536.374046         NaN       NaN           NaN   \n",
      "\n",
      "    Lease_From_Date Move_In_Date      Rent  Market_Rent  \\\n",
      "0        2021-02-13   2019-02-13    1238.0         1350   \n",
      "1        2021-02-08   2019-02-08    1517.0         1595   \n",
      "2        2021-02-06   2019-02-06    1542.0         1630   \n",
      "3        2020-02-22   2018-02-22    1438.0         1475   \n",
      "4        2020-03-19   2020-03-19    1115.0         1290   \n",
      "..              ...          ...       ...          ...   \n",
      "127      2020-04-17   2020-04-17    1525.0         1560   \n",
      "128      2020-08-29   2020-08-29    2075.0         1840   \n",
      "129      2021-02-02   2021-02-02    1995.0         2155   \n",
      "130      2021-02-17   2020-02-17    1403.0         1645   \n",
      "131             NaN          NaN  185540.4       198405   \n",
      "\n",
      "                             Property_Name  BedRooms Unit_Address  \\\n",
      "0           The Crossings at White Marsh I  1.000000       555-A1   \n",
      "1         The Grand Reserve at Tampa Palms  2.000000     585-2C.R   \n",
      "2         The Grand Reserve at Tampa Palms  2.000000     585-2C.R   \n",
      "3         The Grand Reserve at Tampa Palms  2.000000     585-2D.R   \n",
      "4             Doncaster Village Apartments  2.000000       515-2A   \n",
      "..                                     ...       ...          ...   \n",
      "127            101 North Ripley Apartments  2.000000       530-2A   \n",
      "128                           Edison Lofts  2.000000       445-B3   \n",
      "129  Riverstone at Owings Mills Apartments  2.000000     580-B6.R   \n",
      "130        The Crossings at White Marsh II  2.000000       565-B2   \n",
      "131                                    NaN  1.610687          NaN   \n",
      "\n",
      "     Current_Term   Status Renewal_Status  MarketRentDifference     col3  \n",
      "0       12.000000  Current        Renewed          -1344.000000   -112.0  \n",
      "1       12.000000  Current        Renewed           -936.000000    -78.0  \n",
      "2       12.000000  Current        Renewed          -1056.000000    -88.0  \n",
      "3       12.000000     Past    Not Renewed           -444.000000    -37.0  \n",
      "4       11.000000     Past    Not Renewed          -1925.000000   -175.0  \n",
      "..            ...      ...            ...                   ...      ...  \n",
      "127     10.000000     Past    Not Renewed           -350.000000    -35.0  \n",
      "128      6.000000     Past    Not Renewed           1410.000000    235.0  \n",
      "129     12.000000  Current    Not Renewed          -1920.000000   -160.0  \n",
      "130     12.000000  Current        Renewed          -2904.000000   -242.0  \n",
      "131     11.335878      NaN            NaN          -1094.268702 -12864.6  \n",
      "\n",
      "[132 rows x 17 columns]\n"
     ]
    }
   ],
   "source": [
    "sum_column = febdf_1[\"Rent\"] - febdf_1[\"Market_Rent\"]\n",
    "febdf_1[\"col3\"] = sum_column\n",
    "print(febdf_1)"
   ]
  },
  {
   "cell_type": "code",
   "execution_count": 22,
   "metadata": {},
   "outputs": [
    {
     "data": {
      "image/png": "[encoded data removed]",
      "text/plain": [
       "<Figure size 432x288 with 1 Axes>"
      ]
     },
     "metadata": {
      "needs_background": "light"
     },
     "output_type": "display_data"
    }
   ],
   "source": [
    "\n",
    "plt.hist(febdf_1.col3)\n",
    "plt.title(\"The distribution of Rent minus Market Rent\")\n",
    "plt.xlabel(\"Rent minus Market Rent\")\n",
    "plt.ylabel(\"number of occurrence\")\n",
    "plt.show()"
   ]
  },
  {
   "cell_type": "code",
   "execution_count": 20,
   "metadata": {},
   "outputs": [
    {
     "data": {
      "text/plain": [
       "<matplotlib.axes._subplots.AxesSubplot at 0x139ae25c0>"
      ]
     },
     "execution_count": 20,
     "metadata": {},
     "output_type": "execute_result"
    },
    {
     "data": {
      "image/png": "[encoded data removed]",
      "text/plain": [
       "<Figure size 432x288 with 1 Axes>"
      ]
     },
     "metadata": {
      "needs_background": "light"
     },
     "output_type": "display_data"
    }
   ],
   "source": [
    "febdf_1[\"col3\"].plot()"
   ]
  },
  {
   "cell_type": "code",
   "execution_count": 21,
   "metadata": {},
   "outputs": [
    {
     "data": {
      "image/png": "[encoded data removed]",
      "text/plain": [
       "<Figure size 432x288 with 1 Axes>"
      ]
     },
     "execution_count": 21,
     "metadata": {},
     "output_type": "execute_result"
    },
    {
     "data": {
      "image/png": "[encoded data removed]",
      "text/plain": [
       "<Figure size 432x288 with 1 Axes>"
      ]
     },
     "metadata": {
      "needs_background": "light"
     },
     "output_type": "display_data"
    }
   ],
   "source": [
    "y = febdf_1['col3']\n",
    "removed_outliers = y.between(y.quantile(.05), y.quantile(.95))\n",
    "\n",
    "y[removed_outliers].plot().get_figure()"
   ]
  },
  {
   "cell_type": "code",
   "execution_count": null,
   "metadata": {},
   "outputs": [],
   "source": []
  }
 ],
 "metadata": {
  "kernelspec": {
   "display_name": "Python 3",
   "language": "python",
   "name": "python3"
  },
  "language_info": {
   "codemirror_mode": {
    "name": "ipython",
    "version": 3
   },
   "file_extension": ".py",
   "mimetype": "text/x-python",
   "name": "python",
   "nbconvert_exporter": "python",
   "pygments_lexer": "ipython3",
   "version": "3.7.1"
  }
 },
 "nbformat": 4,
 "nbformat_minor": 2
}
